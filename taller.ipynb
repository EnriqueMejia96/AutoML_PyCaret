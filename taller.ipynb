{
 "cells": [
  {
   "cell_type": "markdown",
   "metadata": {},
   "source": [
    "# Paso 1: Cargar el Dataset"
   ]
  },
  {
   "cell_type": "code",
   "execution_count": 15,
   "metadata": {},
   "outputs": [
    {
     "data": {
      "text/html": [
       "<div>\n",
       "<style scoped>\n",
       "    .dataframe tbody tr th:only-of-type {\n",
       "        vertical-align: middle;\n",
       "    }\n",
       "\n",
       "    .dataframe tbody tr th {\n",
       "        vertical-align: top;\n",
       "    }\n",
       "\n",
       "    .dataframe thead th {\n",
       "        text-align: right;\n",
       "    }\n",
       "</style>\n",
       "<table border=\"1\" class=\"dataframe\">\n",
       "  <thead>\n",
       "    <tr style=\"text-align: right;\">\n",
       "      <th></th>\n",
       "      <th>sepal_length</th>\n",
       "      <th>sepal_width</th>\n",
       "      <th>petal_length</th>\n",
       "      <th>petal_width</th>\n",
       "      <th>species</th>\n",
       "    </tr>\n",
       "  </thead>\n",
       "  <tbody>\n",
       "    <tr>\n",
       "      <th>0</th>\n",
       "      <td>5.1</td>\n",
       "      <td>3.5</td>\n",
       "      <td>1.4</td>\n",
       "      <td>0.2</td>\n",
       "      <td>Iris-setosa</td>\n",
       "    </tr>\n",
       "    <tr>\n",
       "      <th>1</th>\n",
       "      <td>4.9</td>\n",
       "      <td>3.0</td>\n",
       "      <td>1.4</td>\n",
       "      <td>0.2</td>\n",
       "      <td>Iris-setosa</td>\n",
       "    </tr>\n",
       "    <tr>\n",
       "      <th>2</th>\n",
       "      <td>4.7</td>\n",
       "      <td>3.2</td>\n",
       "      <td>1.3</td>\n",
       "      <td>0.2</td>\n",
       "      <td>Iris-setosa</td>\n",
       "    </tr>\n",
       "    <tr>\n",
       "      <th>3</th>\n",
       "      <td>4.6</td>\n",
       "      <td>3.1</td>\n",
       "      <td>1.5</td>\n",
       "      <td>0.2</td>\n",
       "      <td>Iris-setosa</td>\n",
       "    </tr>\n",
       "    <tr>\n",
       "      <th>4</th>\n",
       "      <td>5.0</td>\n",
       "      <td>3.6</td>\n",
       "      <td>1.4</td>\n",
       "      <td>0.2</td>\n",
       "      <td>Iris-setosa</td>\n",
       "    </tr>\n",
       "  </tbody>\n",
       "</table>\n",
       "</div>"
      ],
      "text/plain": [
       "   sepal_length  sepal_width  petal_length  petal_width      species\n",
       "0           5.1          3.5           1.4          0.2  Iris-setosa\n",
       "1           4.9          3.0           1.4          0.2  Iris-setosa\n",
       "2           4.7          3.2           1.3          0.2  Iris-setosa\n",
       "3           4.6          3.1           1.5          0.2  Iris-setosa\n",
       "4           5.0          3.6           1.4          0.2  Iris-setosa"
      ]
     },
     "metadata": {},
     "output_type": "display_data"
    }
   ],
   "source": [
    "from pycaret.datasets import get_data\n",
    "dataset = get_data('iris')"
   ]
  },
  {
   "cell_type": "markdown",
   "metadata": {},
   "source": [
    "# Paso 2: Configuración del Experimento"
   ]
  },
  {
   "cell_type": "code",
   "execution_count": 16,
   "metadata": {},
   "outputs": [
    {
     "data": {
      "text/html": [
       "<style type=\"text/css\">\n",
       "#T_4ac38_row9_col1 {\n",
       "  background-color: lightgreen;\n",
       "}\n",
       "</style>\n",
       "<table id=\"T_4ac38\">\n",
       "  <thead>\n",
       "    <tr>\n",
       "      <th class=\"blank level0\" >&nbsp;</th>\n",
       "      <th id=\"T_4ac38_level0_col0\" class=\"col_heading level0 col0\" >Description</th>\n",
       "      <th id=\"T_4ac38_level0_col1\" class=\"col_heading level0 col1\" >Value</th>\n",
       "    </tr>\n",
       "  </thead>\n",
       "  <tbody>\n",
       "    <tr>\n",
       "      <th id=\"T_4ac38_level0_row0\" class=\"row_heading level0 row0\" >0</th>\n",
       "      <td id=\"T_4ac38_row0_col0\" class=\"data row0 col0\" >Session id</td>\n",
       "      <td id=\"T_4ac38_row0_col1\" class=\"data row0 col1\" >123</td>\n",
       "    </tr>\n",
       "    <tr>\n",
       "      <th id=\"T_4ac38_level0_row1\" class=\"row_heading level0 row1\" >1</th>\n",
       "      <td id=\"T_4ac38_row1_col0\" class=\"data row1 col0\" >Target</td>\n",
       "      <td id=\"T_4ac38_row1_col1\" class=\"data row1 col1\" >species</td>\n",
       "    </tr>\n",
       "    <tr>\n",
       "      <th id=\"T_4ac38_level0_row2\" class=\"row_heading level0 row2\" >2</th>\n",
       "      <td id=\"T_4ac38_row2_col0\" class=\"data row2 col0\" >Target type</td>\n",
       "      <td id=\"T_4ac38_row2_col1\" class=\"data row2 col1\" >Multiclass</td>\n",
       "    </tr>\n",
       "    <tr>\n",
       "      <th id=\"T_4ac38_level0_row3\" class=\"row_heading level0 row3\" >3</th>\n",
       "      <td id=\"T_4ac38_row3_col0\" class=\"data row3 col0\" >Target mapping</td>\n",
       "      <td id=\"T_4ac38_row3_col1\" class=\"data row3 col1\" >Iris-setosa: 0, Iris-versicolor: 1, Iris-virginica: 2</td>\n",
       "    </tr>\n",
       "    <tr>\n",
       "      <th id=\"T_4ac38_level0_row4\" class=\"row_heading level0 row4\" >4</th>\n",
       "      <td id=\"T_4ac38_row4_col0\" class=\"data row4 col0\" >Original data shape</td>\n",
       "      <td id=\"T_4ac38_row4_col1\" class=\"data row4 col1\" >(150, 5)</td>\n",
       "    </tr>\n",
       "    <tr>\n",
       "      <th id=\"T_4ac38_level0_row5\" class=\"row_heading level0 row5\" >5</th>\n",
       "      <td id=\"T_4ac38_row5_col0\" class=\"data row5 col0\" >Transformed data shape</td>\n",
       "      <td id=\"T_4ac38_row5_col1\" class=\"data row5 col1\" >(150, 5)</td>\n",
       "    </tr>\n",
       "    <tr>\n",
       "      <th id=\"T_4ac38_level0_row6\" class=\"row_heading level0 row6\" >6</th>\n",
       "      <td id=\"T_4ac38_row6_col0\" class=\"data row6 col0\" >Transformed train set shape</td>\n",
       "      <td id=\"T_4ac38_row6_col1\" class=\"data row6 col1\" >(105, 5)</td>\n",
       "    </tr>\n",
       "    <tr>\n",
       "      <th id=\"T_4ac38_level0_row7\" class=\"row_heading level0 row7\" >7</th>\n",
       "      <td id=\"T_4ac38_row7_col0\" class=\"data row7 col0\" >Transformed test set shape</td>\n",
       "      <td id=\"T_4ac38_row7_col1\" class=\"data row7 col1\" >(45, 5)</td>\n",
       "    </tr>\n",
       "    <tr>\n",
       "      <th id=\"T_4ac38_level0_row8\" class=\"row_heading level0 row8\" >8</th>\n",
       "      <td id=\"T_4ac38_row8_col0\" class=\"data row8 col0\" >Numeric features</td>\n",
       "      <td id=\"T_4ac38_row8_col1\" class=\"data row8 col1\" >4</td>\n",
       "    </tr>\n",
       "    <tr>\n",
       "      <th id=\"T_4ac38_level0_row9\" class=\"row_heading level0 row9\" >9</th>\n",
       "      <td id=\"T_4ac38_row9_col0\" class=\"data row9 col0\" >Preprocess</td>\n",
       "      <td id=\"T_4ac38_row9_col1\" class=\"data row9 col1\" >True</td>\n",
       "    </tr>\n",
       "    <tr>\n",
       "      <th id=\"T_4ac38_level0_row10\" class=\"row_heading level0 row10\" >10</th>\n",
       "      <td id=\"T_4ac38_row10_col0\" class=\"data row10 col0\" >Imputation type</td>\n",
       "      <td id=\"T_4ac38_row10_col1\" class=\"data row10 col1\" >simple</td>\n",
       "    </tr>\n",
       "    <tr>\n",
       "      <th id=\"T_4ac38_level0_row11\" class=\"row_heading level0 row11\" >11</th>\n",
       "      <td id=\"T_4ac38_row11_col0\" class=\"data row11 col0\" >Numeric imputation</td>\n",
       "      <td id=\"T_4ac38_row11_col1\" class=\"data row11 col1\" >mean</td>\n",
       "    </tr>\n",
       "    <tr>\n",
       "      <th id=\"T_4ac38_level0_row12\" class=\"row_heading level0 row12\" >12</th>\n",
       "      <td id=\"T_4ac38_row12_col0\" class=\"data row12 col0\" >Categorical imputation</td>\n",
       "      <td id=\"T_4ac38_row12_col1\" class=\"data row12 col1\" >mode</td>\n",
       "    </tr>\n",
       "    <tr>\n",
       "      <th id=\"T_4ac38_level0_row13\" class=\"row_heading level0 row13\" >13</th>\n",
       "      <td id=\"T_4ac38_row13_col0\" class=\"data row13 col0\" >Fold Generator</td>\n",
       "      <td id=\"T_4ac38_row13_col1\" class=\"data row13 col1\" >StratifiedKFold</td>\n",
       "    </tr>\n",
       "    <tr>\n",
       "      <th id=\"T_4ac38_level0_row14\" class=\"row_heading level0 row14\" >14</th>\n",
       "      <td id=\"T_4ac38_row14_col0\" class=\"data row14 col0\" >Fold Number</td>\n",
       "      <td id=\"T_4ac38_row14_col1\" class=\"data row14 col1\" >10</td>\n",
       "    </tr>\n",
       "    <tr>\n",
       "      <th id=\"T_4ac38_level0_row15\" class=\"row_heading level0 row15\" >15</th>\n",
       "      <td id=\"T_4ac38_row15_col0\" class=\"data row15 col0\" >CPU Jobs</td>\n",
       "      <td id=\"T_4ac38_row15_col1\" class=\"data row15 col1\" >-1</td>\n",
       "    </tr>\n",
       "    <tr>\n",
       "      <th id=\"T_4ac38_level0_row16\" class=\"row_heading level0 row16\" >16</th>\n",
       "      <td id=\"T_4ac38_row16_col0\" class=\"data row16 col0\" >Use GPU</td>\n",
       "      <td id=\"T_4ac38_row16_col1\" class=\"data row16 col1\" >False</td>\n",
       "    </tr>\n",
       "    <tr>\n",
       "      <th id=\"T_4ac38_level0_row17\" class=\"row_heading level0 row17\" >17</th>\n",
       "      <td id=\"T_4ac38_row17_col0\" class=\"data row17 col0\" >Log Experiment</td>\n",
       "      <td id=\"T_4ac38_row17_col1\" class=\"data row17 col1\" >False</td>\n",
       "    </tr>\n",
       "    <tr>\n",
       "      <th id=\"T_4ac38_level0_row18\" class=\"row_heading level0 row18\" >18</th>\n",
       "      <td id=\"T_4ac38_row18_col0\" class=\"data row18 col0\" >Experiment Name</td>\n",
       "      <td id=\"T_4ac38_row18_col1\" class=\"data row18 col1\" >clf-default-name</td>\n",
       "    </tr>\n",
       "    <tr>\n",
       "      <th id=\"T_4ac38_level0_row19\" class=\"row_heading level0 row19\" >19</th>\n",
       "      <td id=\"T_4ac38_row19_col0\" class=\"data row19 col0\" >USI</td>\n",
       "      <td id=\"T_4ac38_row19_col1\" class=\"data row19 col1\" >94aa</td>\n",
       "    </tr>\n",
       "  </tbody>\n",
       "</table>\n"
      ],
      "text/plain": [
       "<pandas.io.formats.style.Styler at 0x20a5f1e9210>"
      ]
     },
     "metadata": {},
     "output_type": "display_data"
    }
   ],
   "source": [
    "from pycaret.classification import setup\n",
    "exp_clf101 = setup(data             = dataset, \n",
    "                   target           = 'species', \n",
    "                   session_id       = 123, \n",
    "                   train_size       = 0.7, \n",
    "                   numeric_features = [\"sepal_length\", \"sepal_width\", \"petal_length\", \"petal_width\"])"
   ]
  },
  {
   "cell_type": "markdown",
   "metadata": {},
   "source": [
    "# Paso 3: Comparación de Modelos"
   ]
  },
  {
   "cell_type": "code",
   "execution_count": 17,
   "metadata": {},
   "outputs": [
    {
     "data": {
      "text/html": [],
      "text/plain": [
       "<IPython.core.display.HTML object>"
      ]
     },
     "metadata": {},
     "output_type": "display_data"
    },
    {
     "data": {
      "text/html": [
       "<style type=\"text/css\">\n",
       "#T_fdaaf th {\n",
       "  text-align: left;\n",
       "}\n",
       "#T_fdaaf_row0_col0, #T_fdaaf_row1_col0, #T_fdaaf_row2_col0, #T_fdaaf_row3_col0, #T_fdaaf_row4_col0, #T_fdaaf_row4_col1, #T_fdaaf_row4_col3, #T_fdaaf_row4_col4, #T_fdaaf_row4_col5, #T_fdaaf_row4_col6, #T_fdaaf_row4_col7, #T_fdaaf_row5_col0, #T_fdaaf_row5_col1, #T_fdaaf_row5_col3, #T_fdaaf_row5_col4, #T_fdaaf_row5_col5, #T_fdaaf_row5_col6, #T_fdaaf_row5_col7, #T_fdaaf_row6_col0, #T_fdaaf_row6_col1, #T_fdaaf_row6_col3, #T_fdaaf_row6_col4, #T_fdaaf_row6_col5, #T_fdaaf_row6_col6, #T_fdaaf_row6_col7, #T_fdaaf_row7_col0, #T_fdaaf_row7_col1, #T_fdaaf_row7_col3, #T_fdaaf_row7_col4, #T_fdaaf_row7_col5, #T_fdaaf_row7_col6, #T_fdaaf_row7_col7, #T_fdaaf_row8_col0, #T_fdaaf_row8_col1, #T_fdaaf_row8_col3, #T_fdaaf_row8_col4, #T_fdaaf_row8_col5, #T_fdaaf_row8_col6, #T_fdaaf_row8_col7, #T_fdaaf_row9_col0, #T_fdaaf_row9_col1, #T_fdaaf_row9_col3, #T_fdaaf_row9_col4, #T_fdaaf_row9_col5, #T_fdaaf_row9_col6, #T_fdaaf_row9_col7, #T_fdaaf_row10_col0, #T_fdaaf_row10_col1, #T_fdaaf_row10_col3, #T_fdaaf_row10_col4, #T_fdaaf_row10_col5, #T_fdaaf_row10_col6, #T_fdaaf_row10_col7, #T_fdaaf_row11_col0, #T_fdaaf_row11_col1, #T_fdaaf_row11_col3, #T_fdaaf_row11_col4, #T_fdaaf_row11_col5, #T_fdaaf_row11_col6, #T_fdaaf_row11_col7, #T_fdaaf_row12_col0, #T_fdaaf_row12_col1, #T_fdaaf_row12_col3, #T_fdaaf_row12_col4, #T_fdaaf_row12_col5, #T_fdaaf_row12_col6, #T_fdaaf_row12_col7, #T_fdaaf_row13_col0, #T_fdaaf_row13_col1, #T_fdaaf_row13_col3, #T_fdaaf_row13_col4, #T_fdaaf_row13_col5, #T_fdaaf_row13_col6, #T_fdaaf_row13_col7 {\n",
       "  text-align: left;\n",
       "}\n",
       "#T_fdaaf_row0_col1, #T_fdaaf_row0_col2, #T_fdaaf_row0_col3, #T_fdaaf_row0_col4, #T_fdaaf_row0_col5, #T_fdaaf_row0_col6, #T_fdaaf_row0_col7, #T_fdaaf_row1_col1, #T_fdaaf_row1_col2, #T_fdaaf_row1_col3, #T_fdaaf_row1_col4, #T_fdaaf_row1_col5, #T_fdaaf_row1_col6, #T_fdaaf_row1_col7, #T_fdaaf_row2_col1, #T_fdaaf_row2_col2, #T_fdaaf_row2_col3, #T_fdaaf_row2_col4, #T_fdaaf_row2_col5, #T_fdaaf_row2_col6, #T_fdaaf_row2_col7, #T_fdaaf_row3_col1, #T_fdaaf_row3_col2, #T_fdaaf_row3_col3, #T_fdaaf_row3_col4, #T_fdaaf_row3_col5, #T_fdaaf_row3_col6, #T_fdaaf_row3_col7, #T_fdaaf_row4_col2, #T_fdaaf_row5_col2, #T_fdaaf_row6_col2, #T_fdaaf_row7_col2, #T_fdaaf_row8_col2, #T_fdaaf_row9_col2, #T_fdaaf_row10_col2, #T_fdaaf_row11_col2, #T_fdaaf_row12_col2, #T_fdaaf_row13_col2 {\n",
       "  text-align: left;\n",
       "  background-color: yellow;\n",
       "}\n",
       "#T_fdaaf_row0_col8, #T_fdaaf_row1_col8, #T_fdaaf_row2_col8, #T_fdaaf_row3_col8, #T_fdaaf_row4_col8, #T_fdaaf_row5_col8, #T_fdaaf_row6_col8, #T_fdaaf_row7_col8, #T_fdaaf_row9_col8, #T_fdaaf_row10_col8, #T_fdaaf_row11_col8, #T_fdaaf_row12_col8, #T_fdaaf_row13_col8 {\n",
       "  text-align: left;\n",
       "  background-color: lightgrey;\n",
       "}\n",
       "#T_fdaaf_row8_col8 {\n",
       "  text-align: left;\n",
       "  background-color: yellow;\n",
       "  background-color: lightgrey;\n",
       "}\n",
       "</style>\n",
       "<table id=\"T_fdaaf\">\n",
       "  <thead>\n",
       "    <tr>\n",
       "      <th class=\"blank level0\" >&nbsp;</th>\n",
       "      <th id=\"T_fdaaf_level0_col0\" class=\"col_heading level0 col0\" >Model</th>\n",
       "      <th id=\"T_fdaaf_level0_col1\" class=\"col_heading level0 col1\" >Accuracy</th>\n",
       "      <th id=\"T_fdaaf_level0_col2\" class=\"col_heading level0 col2\" >AUC</th>\n",
       "      <th id=\"T_fdaaf_level0_col3\" class=\"col_heading level0 col3\" >Recall</th>\n",
       "      <th id=\"T_fdaaf_level0_col4\" class=\"col_heading level0 col4\" >Prec.</th>\n",
       "      <th id=\"T_fdaaf_level0_col5\" class=\"col_heading level0 col5\" >F1</th>\n",
       "      <th id=\"T_fdaaf_level0_col6\" class=\"col_heading level0 col6\" >Kappa</th>\n",
       "      <th id=\"T_fdaaf_level0_col7\" class=\"col_heading level0 col7\" >MCC</th>\n",
       "      <th id=\"T_fdaaf_level0_col8\" class=\"col_heading level0 col8\" >TT (Sec)</th>\n",
       "    </tr>\n",
       "  </thead>\n",
       "  <tbody>\n",
       "    <tr>\n",
       "      <th id=\"T_fdaaf_level0_row0\" class=\"row_heading level0 row0\" >lr</th>\n",
       "      <td id=\"T_fdaaf_row0_col0\" class=\"data row0 col0\" >Logistic Regression</td>\n",
       "      <td id=\"T_fdaaf_row0_col1\" class=\"data row0 col1\" >0.9718</td>\n",
       "      <td id=\"T_fdaaf_row0_col2\" class=\"data row0 col2\" >0.0000</td>\n",
       "      <td id=\"T_fdaaf_row0_col3\" class=\"data row0 col3\" >0.9718</td>\n",
       "      <td id=\"T_fdaaf_row0_col4\" class=\"data row0 col4\" >0.9780</td>\n",
       "      <td id=\"T_fdaaf_row0_col5\" class=\"data row0 col5\" >0.9712</td>\n",
       "      <td id=\"T_fdaaf_row0_col6\" class=\"data row0 col6\" >0.9573</td>\n",
       "      <td id=\"T_fdaaf_row0_col7\" class=\"data row0 col7\" >0.9609</td>\n",
       "      <td id=\"T_fdaaf_row0_col8\" class=\"data row0 col8\" >0.9980</td>\n",
       "    </tr>\n",
       "    <tr>\n",
       "      <th id=\"T_fdaaf_level0_row1\" class=\"row_heading level0 row1\" >knn</th>\n",
       "      <td id=\"T_fdaaf_row1_col0\" class=\"data row1 col0\" >K Neighbors Classifier</td>\n",
       "      <td id=\"T_fdaaf_row1_col1\" class=\"data row1 col1\" >0.9718</td>\n",
       "      <td id=\"T_fdaaf_row1_col2\" class=\"data row1 col2\" >0.0000</td>\n",
       "      <td id=\"T_fdaaf_row1_col3\" class=\"data row1 col3\" >0.9718</td>\n",
       "      <td id=\"T_fdaaf_row1_col4\" class=\"data row1 col4\" >0.9780</td>\n",
       "      <td id=\"T_fdaaf_row1_col5\" class=\"data row1 col5\" >0.9712</td>\n",
       "      <td id=\"T_fdaaf_row1_col6\" class=\"data row1 col6\" >0.9573</td>\n",
       "      <td id=\"T_fdaaf_row1_col7\" class=\"data row1 col7\" >0.9609</td>\n",
       "      <td id=\"T_fdaaf_row1_col8\" class=\"data row1 col8\" >0.5290</td>\n",
       "    </tr>\n",
       "    <tr>\n",
       "      <th id=\"T_fdaaf_level0_row2\" class=\"row_heading level0 row2\" >qda</th>\n",
       "      <td id=\"T_fdaaf_row2_col0\" class=\"data row2 col0\" >Quadratic Discriminant Analysis</td>\n",
       "      <td id=\"T_fdaaf_row2_col1\" class=\"data row2 col1\" >0.9718</td>\n",
       "      <td id=\"T_fdaaf_row2_col2\" class=\"data row2 col2\" >0.0000</td>\n",
       "      <td id=\"T_fdaaf_row2_col3\" class=\"data row2 col3\" >0.9718</td>\n",
       "      <td id=\"T_fdaaf_row2_col4\" class=\"data row2 col4\" >0.9780</td>\n",
       "      <td id=\"T_fdaaf_row2_col5\" class=\"data row2 col5\" >0.9712</td>\n",
       "      <td id=\"T_fdaaf_row2_col6\" class=\"data row2 col6\" >0.9573</td>\n",
       "      <td id=\"T_fdaaf_row2_col7\" class=\"data row2 col7\" >0.9609</td>\n",
       "      <td id=\"T_fdaaf_row2_col8\" class=\"data row2 col8\" >0.0170</td>\n",
       "    </tr>\n",
       "    <tr>\n",
       "      <th id=\"T_fdaaf_level0_row3\" class=\"row_heading level0 row3\" >lda</th>\n",
       "      <td id=\"T_fdaaf_row3_col0\" class=\"data row3 col0\" >Linear Discriminant Analysis</td>\n",
       "      <td id=\"T_fdaaf_row3_col1\" class=\"data row3 col1\" >0.9718</td>\n",
       "      <td id=\"T_fdaaf_row3_col2\" class=\"data row3 col2\" >0.0000</td>\n",
       "      <td id=\"T_fdaaf_row3_col3\" class=\"data row3 col3\" >0.9718</td>\n",
       "      <td id=\"T_fdaaf_row3_col4\" class=\"data row3 col4\" >0.9780</td>\n",
       "      <td id=\"T_fdaaf_row3_col5\" class=\"data row3 col5\" >0.9712</td>\n",
       "      <td id=\"T_fdaaf_row3_col6\" class=\"data row3 col6\" >0.9573</td>\n",
       "      <td id=\"T_fdaaf_row3_col7\" class=\"data row3 col7\" >0.9609</td>\n",
       "      <td id=\"T_fdaaf_row3_col8\" class=\"data row3 col8\" >0.0130</td>\n",
       "    </tr>\n",
       "    <tr>\n",
       "      <th id=\"T_fdaaf_level0_row4\" class=\"row_heading level0 row4\" >lightgbm</th>\n",
       "      <td id=\"T_fdaaf_row4_col0\" class=\"data row4 col0\" >Light Gradient Boosting Machine</td>\n",
       "      <td id=\"T_fdaaf_row4_col1\" class=\"data row4 col1\" >0.9536</td>\n",
       "      <td id=\"T_fdaaf_row4_col2\" class=\"data row4 col2\" >0.0000</td>\n",
       "      <td id=\"T_fdaaf_row4_col3\" class=\"data row4 col3\" >0.9536</td>\n",
       "      <td id=\"T_fdaaf_row4_col4\" class=\"data row4 col4\" >0.9634</td>\n",
       "      <td id=\"T_fdaaf_row4_col5\" class=\"data row4 col5\" >0.9528</td>\n",
       "      <td id=\"T_fdaaf_row4_col6\" class=\"data row4 col6\" >0.9298</td>\n",
       "      <td id=\"T_fdaaf_row4_col7\" class=\"data row4 col7\" >0.9356</td>\n",
       "      <td id=\"T_fdaaf_row4_col8\" class=\"data row4 col8\" >0.1340</td>\n",
       "    </tr>\n",
       "    <tr>\n",
       "      <th id=\"T_fdaaf_level0_row5\" class=\"row_heading level0 row5\" >nb</th>\n",
       "      <td id=\"T_fdaaf_row5_col0\" class=\"data row5 col0\" >Naive Bayes</td>\n",
       "      <td id=\"T_fdaaf_row5_col1\" class=\"data row5 col1\" >0.9445</td>\n",
       "      <td id=\"T_fdaaf_row5_col2\" class=\"data row5 col2\" >0.0000</td>\n",
       "      <td id=\"T_fdaaf_row5_col3\" class=\"data row5 col3\" >0.9445</td>\n",
       "      <td id=\"T_fdaaf_row5_col4\" class=\"data row5 col4\" >0.9525</td>\n",
       "      <td id=\"T_fdaaf_row5_col5\" class=\"data row5 col5\" >0.9438</td>\n",
       "      <td id=\"T_fdaaf_row5_col6\" class=\"data row5 col6\" >0.9161</td>\n",
       "      <td id=\"T_fdaaf_row5_col7\" class=\"data row5 col7\" >0.9207</td>\n",
       "      <td id=\"T_fdaaf_row5_col8\" class=\"data row5 col8\" >0.0130</td>\n",
       "    </tr>\n",
       "    <tr>\n",
       "      <th id=\"T_fdaaf_level0_row6\" class=\"row_heading level0 row6\" >et</th>\n",
       "      <td id=\"T_fdaaf_row6_col0\" class=\"data row6 col0\" >Extra Trees Classifier</td>\n",
       "      <td id=\"T_fdaaf_row6_col1\" class=\"data row6 col1\" >0.9445</td>\n",
       "      <td id=\"T_fdaaf_row6_col2\" class=\"data row6 col2\" >0.0000</td>\n",
       "      <td id=\"T_fdaaf_row6_col3\" class=\"data row6 col3\" >0.9445</td>\n",
       "      <td id=\"T_fdaaf_row6_col4\" class=\"data row6 col4\" >0.9586</td>\n",
       "      <td id=\"T_fdaaf_row6_col5\" class=\"data row6 col5\" >0.9426</td>\n",
       "      <td id=\"T_fdaaf_row6_col6\" class=\"data row6 col6\" >0.9161</td>\n",
       "      <td id=\"T_fdaaf_row6_col7\" class=\"data row6 col7\" >0.9246</td>\n",
       "      <td id=\"T_fdaaf_row6_col8\" class=\"data row6 col8\" >0.0520</td>\n",
       "    </tr>\n",
       "    <tr>\n",
       "      <th id=\"T_fdaaf_level0_row7\" class=\"row_heading level0 row7\" >gbc</th>\n",
       "      <td id=\"T_fdaaf_row7_col0\" class=\"data row7 col0\" >Gradient Boosting Classifier</td>\n",
       "      <td id=\"T_fdaaf_row7_col1\" class=\"data row7 col1\" >0.9355</td>\n",
       "      <td id=\"T_fdaaf_row7_col2\" class=\"data row7 col2\" >0.0000</td>\n",
       "      <td id=\"T_fdaaf_row7_col3\" class=\"data row7 col3\" >0.9355</td>\n",
       "      <td id=\"T_fdaaf_row7_col4\" class=\"data row7 col4\" >0.9416</td>\n",
       "      <td id=\"T_fdaaf_row7_col5\" class=\"data row7 col5\" >0.9325</td>\n",
       "      <td id=\"T_fdaaf_row7_col6\" class=\"data row7 col6\" >0.9023</td>\n",
       "      <td id=\"T_fdaaf_row7_col7\" class=\"data row7 col7\" >0.9083</td>\n",
       "      <td id=\"T_fdaaf_row7_col8\" class=\"data row7 col8\" >0.1050</td>\n",
       "    </tr>\n",
       "    <tr>\n",
       "      <th id=\"T_fdaaf_level0_row8\" class=\"row_heading level0 row8\" >dt</th>\n",
       "      <td id=\"T_fdaaf_row8_col0\" class=\"data row8 col0\" >Decision Tree Classifier</td>\n",
       "      <td id=\"T_fdaaf_row8_col1\" class=\"data row8 col1\" >0.9264</td>\n",
       "      <td id=\"T_fdaaf_row8_col2\" class=\"data row8 col2\" >0.0000</td>\n",
       "      <td id=\"T_fdaaf_row8_col3\" class=\"data row8 col3\" >0.9264</td>\n",
       "      <td id=\"T_fdaaf_row8_col4\" class=\"data row8 col4\" >0.9502</td>\n",
       "      <td id=\"T_fdaaf_row8_col5\" class=\"data row8 col5\" >0.9201</td>\n",
       "      <td id=\"T_fdaaf_row8_col6\" class=\"data row8 col6\" >0.8886</td>\n",
       "      <td id=\"T_fdaaf_row8_col7\" class=\"data row8 col7\" >0.9040</td>\n",
       "      <td id=\"T_fdaaf_row8_col8\" class=\"data row8 col8\" >0.0110</td>\n",
       "    </tr>\n",
       "    <tr>\n",
       "      <th id=\"T_fdaaf_level0_row9\" class=\"row_heading level0 row9\" >rf</th>\n",
       "      <td id=\"T_fdaaf_row9_col0\" class=\"data row9 col0\" >Random Forest Classifier</td>\n",
       "      <td id=\"T_fdaaf_row9_col1\" class=\"data row9 col1\" >0.9264</td>\n",
       "      <td id=\"T_fdaaf_row9_col2\" class=\"data row9 col2\" >0.0000</td>\n",
       "      <td id=\"T_fdaaf_row9_col3\" class=\"data row9 col3\" >0.9264</td>\n",
       "      <td id=\"T_fdaaf_row9_col4\" class=\"data row9 col4\" >0.9343</td>\n",
       "      <td id=\"T_fdaaf_row9_col5\" class=\"data row9 col5\" >0.9232</td>\n",
       "      <td id=\"T_fdaaf_row9_col6\" class=\"data row9 col6\" >0.8886</td>\n",
       "      <td id=\"T_fdaaf_row9_col7\" class=\"data row9 col7\" >0.8956</td>\n",
       "      <td id=\"T_fdaaf_row9_col8\" class=\"data row9 col8\" >0.0670</td>\n",
       "    </tr>\n",
       "    <tr>\n",
       "      <th id=\"T_fdaaf_level0_row10\" class=\"row_heading level0 row10\" >ada</th>\n",
       "      <td id=\"T_fdaaf_row10_col0\" class=\"data row10 col0\" >Ada Boost Classifier</td>\n",
       "      <td id=\"T_fdaaf_row10_col1\" class=\"data row10 col1\" >0.9155</td>\n",
       "      <td id=\"T_fdaaf_row10_col2\" class=\"data row10 col2\" >0.0000</td>\n",
       "      <td id=\"T_fdaaf_row10_col3\" class=\"data row10 col3\" >0.9155</td>\n",
       "      <td id=\"T_fdaaf_row10_col4\" class=\"data row10 col4\" >0.9401</td>\n",
       "      <td id=\"T_fdaaf_row10_col5\" class=\"data row10 col5\" >0.9097</td>\n",
       "      <td id=\"T_fdaaf_row10_col6\" class=\"data row10 col6\" >0.8720</td>\n",
       "      <td id=\"T_fdaaf_row10_col7\" class=\"data row10 col7\" >0.8873</td>\n",
       "      <td id=\"T_fdaaf_row10_col8\" class=\"data row10 col8\" >0.0390</td>\n",
       "    </tr>\n",
       "    <tr>\n",
       "      <th id=\"T_fdaaf_level0_row11\" class=\"row_heading level0 row11\" >ridge</th>\n",
       "      <td id=\"T_fdaaf_row11_col0\" class=\"data row11 col0\" >Ridge Classifier</td>\n",
       "      <td id=\"T_fdaaf_row11_col1\" class=\"data row11 col1\" >0.8227</td>\n",
       "      <td id=\"T_fdaaf_row11_col2\" class=\"data row11 col2\" >0.0000</td>\n",
       "      <td id=\"T_fdaaf_row11_col3\" class=\"data row11 col3\" >0.8227</td>\n",
       "      <td id=\"T_fdaaf_row11_col4\" class=\"data row11 col4\" >0.8437</td>\n",
       "      <td id=\"T_fdaaf_row11_col5\" class=\"data row11 col5\" >0.8186</td>\n",
       "      <td id=\"T_fdaaf_row11_col6\" class=\"data row11 col6\" >0.7320</td>\n",
       "      <td id=\"T_fdaaf_row11_col7\" class=\"data row11 col7\" >0.7454</td>\n",
       "      <td id=\"T_fdaaf_row11_col8\" class=\"data row11 col8\" >0.0150</td>\n",
       "    </tr>\n",
       "    <tr>\n",
       "      <th id=\"T_fdaaf_level0_row12\" class=\"row_heading level0 row12\" >svm</th>\n",
       "      <td id=\"T_fdaaf_row12_col0\" class=\"data row12 col0\" >SVM - Linear Kernel</td>\n",
       "      <td id=\"T_fdaaf_row12_col1\" class=\"data row12 col1\" >0.7618</td>\n",
       "      <td id=\"T_fdaaf_row12_col2\" class=\"data row12 col2\" >0.0000</td>\n",
       "      <td id=\"T_fdaaf_row12_col3\" class=\"data row12 col3\" >0.7618</td>\n",
       "      <td id=\"T_fdaaf_row12_col4\" class=\"data row12 col4\" >0.6655</td>\n",
       "      <td id=\"T_fdaaf_row12_col5\" class=\"data row12 col5\" >0.6888</td>\n",
       "      <td id=\"T_fdaaf_row12_col6\" class=\"data row12 col6\" >0.6333</td>\n",
       "      <td id=\"T_fdaaf_row12_col7\" class=\"data row12 col7\" >0.7048</td>\n",
       "      <td id=\"T_fdaaf_row12_col8\" class=\"data row12 col8\" >0.0190</td>\n",
       "    </tr>\n",
       "    <tr>\n",
       "      <th id=\"T_fdaaf_level0_row13\" class=\"row_heading level0 row13\" >dummy</th>\n",
       "      <td id=\"T_fdaaf_row13_col0\" class=\"data row13 col0\" >Dummy Classifier</td>\n",
       "      <td id=\"T_fdaaf_row13_col1\" class=\"data row13 col1\" >0.2864</td>\n",
       "      <td id=\"T_fdaaf_row13_col2\" class=\"data row13 col2\" >0.0000</td>\n",
       "      <td id=\"T_fdaaf_row13_col3\" class=\"data row13 col3\" >0.2864</td>\n",
       "      <td id=\"T_fdaaf_row13_col4\" class=\"data row13 col4\" >0.0822</td>\n",
       "      <td id=\"T_fdaaf_row13_col5\" class=\"data row13 col5\" >0.1277</td>\n",
       "      <td id=\"T_fdaaf_row13_col6\" class=\"data row13 col6\" >0.0000</td>\n",
       "      <td id=\"T_fdaaf_row13_col7\" class=\"data row13 col7\" >0.0000</td>\n",
       "      <td id=\"T_fdaaf_row13_col8\" class=\"data row13 col8\" >0.0120</td>\n",
       "    </tr>\n",
       "  </tbody>\n",
       "</table>\n"
      ],
      "text/plain": [
       "<pandas.io.formats.style.Styler at 0x20a5ef45bd0>"
      ]
     },
     "metadata": {},
     "output_type": "display_data"
    },
    {
     "data": {
      "application/vnd.jupyter.widget-view+json": {
       "model_id": "e3167d5fbb4a464d9613fad8a0c5c68b",
       "version_major": 2,
       "version_minor": 0
      },
      "text/plain": [
       "Processing:   0%|          | 0/61 [00:00<?, ?it/s]"
      ]
     },
     "metadata": {},
     "output_type": "display_data"
    }
   ],
   "source": [
    "from pycaret.classification import compare_models\n",
    "best_model = compare_models()"
   ]
  },
  {
   "cell_type": "markdown",
   "metadata": {},
   "source": [
    "# Paso 4: Creación de un Modelo Específico"
   ]
  },
  {
   "cell_type": "code",
   "execution_count": 18,
   "metadata": {},
   "outputs": [
    {
     "data": {
      "text/html": [],
      "text/plain": [
       "<IPython.core.display.HTML object>"
      ]
     },
     "metadata": {},
     "output_type": "display_data"
    },
    {
     "data": {
      "text/html": [
       "<style type=\"text/css\">\n",
       "#T_4f9bc_row10_col0, #T_4f9bc_row10_col1, #T_4f9bc_row10_col2, #T_4f9bc_row10_col3, #T_4f9bc_row10_col4, #T_4f9bc_row10_col5, #T_4f9bc_row10_col6 {\n",
       "  background: yellow;\n",
       "}\n",
       "</style>\n",
       "<table id=\"T_4f9bc\">\n",
       "  <thead>\n",
       "    <tr>\n",
       "      <th class=\"blank level0\" >&nbsp;</th>\n",
       "      <th id=\"T_4f9bc_level0_col0\" class=\"col_heading level0 col0\" >Accuracy</th>\n",
       "      <th id=\"T_4f9bc_level0_col1\" class=\"col_heading level0 col1\" >AUC</th>\n",
       "      <th id=\"T_4f9bc_level0_col2\" class=\"col_heading level0 col2\" >Recall</th>\n",
       "      <th id=\"T_4f9bc_level0_col3\" class=\"col_heading level0 col3\" >Prec.</th>\n",
       "      <th id=\"T_4f9bc_level0_col4\" class=\"col_heading level0 col4\" >F1</th>\n",
       "      <th id=\"T_4f9bc_level0_col5\" class=\"col_heading level0 col5\" >Kappa</th>\n",
       "      <th id=\"T_4f9bc_level0_col6\" class=\"col_heading level0 col6\" >MCC</th>\n",
       "    </tr>\n",
       "    <tr>\n",
       "      <th class=\"index_name level0\" >Fold</th>\n",
       "      <th class=\"blank col0\" >&nbsp;</th>\n",
       "      <th class=\"blank col1\" >&nbsp;</th>\n",
       "      <th class=\"blank col2\" >&nbsp;</th>\n",
       "      <th class=\"blank col3\" >&nbsp;</th>\n",
       "      <th class=\"blank col4\" >&nbsp;</th>\n",
       "      <th class=\"blank col5\" >&nbsp;</th>\n",
       "      <th class=\"blank col6\" >&nbsp;</th>\n",
       "    </tr>\n",
       "  </thead>\n",
       "  <tbody>\n",
       "    <tr>\n",
       "      <th id=\"T_4f9bc_level0_row0\" class=\"row_heading level0 row0\" >0</th>\n",
       "      <td id=\"T_4f9bc_row0_col0\" class=\"data row0 col0\" >0.9091</td>\n",
       "      <td id=\"T_4f9bc_row0_col1\" class=\"data row0 col1\" >0.0000</td>\n",
       "      <td id=\"T_4f9bc_row0_col2\" class=\"data row0 col2\" >0.9091</td>\n",
       "      <td id=\"T_4f9bc_row0_col3\" class=\"data row0 col3\" >0.9273</td>\n",
       "      <td id=\"T_4f9bc_row0_col4\" class=\"data row0 col4\" >0.9076</td>\n",
       "      <td id=\"T_4f9bc_row0_col5\" class=\"data row0 col5\" >0.8625</td>\n",
       "      <td id=\"T_4f9bc_row0_col6\" class=\"data row0 col6\" >0.8735</td>\n",
       "    </tr>\n",
       "    <tr>\n",
       "      <th id=\"T_4f9bc_level0_row1\" class=\"row_heading level0 row1\" >1</th>\n",
       "      <td id=\"T_4f9bc_row1_col0\" class=\"data row1 col0\" >1.0000</td>\n",
       "      <td id=\"T_4f9bc_row1_col1\" class=\"data row1 col1\" >0.0000</td>\n",
       "      <td id=\"T_4f9bc_row1_col2\" class=\"data row1 col2\" >1.0000</td>\n",
       "      <td id=\"T_4f9bc_row1_col3\" class=\"data row1 col3\" >1.0000</td>\n",
       "      <td id=\"T_4f9bc_row1_col4\" class=\"data row1 col4\" >1.0000</td>\n",
       "      <td id=\"T_4f9bc_row1_col5\" class=\"data row1 col5\" >1.0000</td>\n",
       "      <td id=\"T_4f9bc_row1_col6\" class=\"data row1 col6\" >1.0000</td>\n",
       "    </tr>\n",
       "    <tr>\n",
       "      <th id=\"T_4f9bc_level0_row2\" class=\"row_heading level0 row2\" >2</th>\n",
       "      <td id=\"T_4f9bc_row2_col0\" class=\"data row2 col0\" >0.9091</td>\n",
       "      <td id=\"T_4f9bc_row2_col1\" class=\"data row2 col1\" >0.0000</td>\n",
       "      <td id=\"T_4f9bc_row2_col2\" class=\"data row2 col2\" >0.9091</td>\n",
       "      <td id=\"T_4f9bc_row2_col3\" class=\"data row2 col3\" >0.9273</td>\n",
       "      <td id=\"T_4f9bc_row2_col4\" class=\"data row2 col4\" >0.9076</td>\n",
       "      <td id=\"T_4f9bc_row2_col5\" class=\"data row2 col5\" >0.8625</td>\n",
       "      <td id=\"T_4f9bc_row2_col6\" class=\"data row2 col6\" >0.8735</td>\n",
       "    </tr>\n",
       "    <tr>\n",
       "      <th id=\"T_4f9bc_level0_row3\" class=\"row_heading level0 row3\" >3</th>\n",
       "      <td id=\"T_4f9bc_row3_col0\" class=\"data row3 col0\" >1.0000</td>\n",
       "      <td id=\"T_4f9bc_row3_col1\" class=\"data row3 col1\" >0.0000</td>\n",
       "      <td id=\"T_4f9bc_row3_col2\" class=\"data row3 col2\" >1.0000</td>\n",
       "      <td id=\"T_4f9bc_row3_col3\" class=\"data row3 col3\" >1.0000</td>\n",
       "      <td id=\"T_4f9bc_row3_col4\" class=\"data row3 col4\" >1.0000</td>\n",
       "      <td id=\"T_4f9bc_row3_col5\" class=\"data row3 col5\" >1.0000</td>\n",
       "      <td id=\"T_4f9bc_row3_col6\" class=\"data row3 col6\" >1.0000</td>\n",
       "    </tr>\n",
       "    <tr>\n",
       "      <th id=\"T_4f9bc_level0_row4\" class=\"row_heading level0 row4\" >4</th>\n",
       "      <td id=\"T_4f9bc_row4_col0\" class=\"data row4 col0\" >1.0000</td>\n",
       "      <td id=\"T_4f9bc_row4_col1\" class=\"data row4 col1\" >0.0000</td>\n",
       "      <td id=\"T_4f9bc_row4_col2\" class=\"data row4 col2\" >1.0000</td>\n",
       "      <td id=\"T_4f9bc_row4_col3\" class=\"data row4 col3\" >1.0000</td>\n",
       "      <td id=\"T_4f9bc_row4_col4\" class=\"data row4 col4\" >1.0000</td>\n",
       "      <td id=\"T_4f9bc_row4_col5\" class=\"data row4 col5\" >1.0000</td>\n",
       "      <td id=\"T_4f9bc_row4_col6\" class=\"data row4 col6\" >1.0000</td>\n",
       "    </tr>\n",
       "    <tr>\n",
       "      <th id=\"T_4f9bc_level0_row5\" class=\"row_heading level0 row5\" >5</th>\n",
       "      <td id=\"T_4f9bc_row5_col0\" class=\"data row5 col0\" >0.9000</td>\n",
       "      <td id=\"T_4f9bc_row5_col1\" class=\"data row5 col1\" >0.0000</td>\n",
       "      <td id=\"T_4f9bc_row5_col2\" class=\"data row5 col2\" >0.9000</td>\n",
       "      <td id=\"T_4f9bc_row5_col3\" class=\"data row5 col3\" >0.9250</td>\n",
       "      <td id=\"T_4f9bc_row5_col4\" class=\"data row5 col4\" >0.8971</td>\n",
       "      <td id=\"T_4f9bc_row5_col5\" class=\"data row5 col5\" >0.8485</td>\n",
       "      <td id=\"T_4f9bc_row5_col6\" class=\"data row5 col6\" >0.8616</td>\n",
       "    </tr>\n",
       "    <tr>\n",
       "      <th id=\"T_4f9bc_level0_row6\" class=\"row_heading level0 row6\" >6</th>\n",
       "      <td id=\"T_4f9bc_row6_col0\" class=\"data row6 col0\" >1.0000</td>\n",
       "      <td id=\"T_4f9bc_row6_col1\" class=\"data row6 col1\" >0.0000</td>\n",
       "      <td id=\"T_4f9bc_row6_col2\" class=\"data row6 col2\" >1.0000</td>\n",
       "      <td id=\"T_4f9bc_row6_col3\" class=\"data row6 col3\" >1.0000</td>\n",
       "      <td id=\"T_4f9bc_row6_col4\" class=\"data row6 col4\" >1.0000</td>\n",
       "      <td id=\"T_4f9bc_row6_col5\" class=\"data row6 col5\" >1.0000</td>\n",
       "      <td id=\"T_4f9bc_row6_col6\" class=\"data row6 col6\" >1.0000</td>\n",
       "    </tr>\n",
       "    <tr>\n",
       "      <th id=\"T_4f9bc_level0_row7\" class=\"row_heading level0 row7\" >7</th>\n",
       "      <td id=\"T_4f9bc_row7_col0\" class=\"data row7 col0\" >1.0000</td>\n",
       "      <td id=\"T_4f9bc_row7_col1\" class=\"data row7 col1\" >0.0000</td>\n",
       "      <td id=\"T_4f9bc_row7_col2\" class=\"data row7 col2\" >1.0000</td>\n",
       "      <td id=\"T_4f9bc_row7_col3\" class=\"data row7 col3\" >1.0000</td>\n",
       "      <td id=\"T_4f9bc_row7_col4\" class=\"data row7 col4\" >1.0000</td>\n",
       "      <td id=\"T_4f9bc_row7_col5\" class=\"data row7 col5\" >1.0000</td>\n",
       "      <td id=\"T_4f9bc_row7_col6\" class=\"data row7 col6\" >1.0000</td>\n",
       "    </tr>\n",
       "    <tr>\n",
       "      <th id=\"T_4f9bc_level0_row8\" class=\"row_heading level0 row8\" >8</th>\n",
       "      <td id=\"T_4f9bc_row8_col0\" class=\"data row8 col0\" >1.0000</td>\n",
       "      <td id=\"T_4f9bc_row8_col1\" class=\"data row8 col1\" >0.0000</td>\n",
       "      <td id=\"T_4f9bc_row8_col2\" class=\"data row8 col2\" >1.0000</td>\n",
       "      <td id=\"T_4f9bc_row8_col3\" class=\"data row8 col3\" >1.0000</td>\n",
       "      <td id=\"T_4f9bc_row8_col4\" class=\"data row8 col4\" >1.0000</td>\n",
       "      <td id=\"T_4f9bc_row8_col5\" class=\"data row8 col5\" >1.0000</td>\n",
       "      <td id=\"T_4f9bc_row8_col6\" class=\"data row8 col6\" >1.0000</td>\n",
       "    </tr>\n",
       "    <tr>\n",
       "      <th id=\"T_4f9bc_level0_row9\" class=\"row_heading level0 row9\" >9</th>\n",
       "      <td id=\"T_4f9bc_row9_col0\" class=\"data row9 col0\" >1.0000</td>\n",
       "      <td id=\"T_4f9bc_row9_col1\" class=\"data row9 col1\" >0.0000</td>\n",
       "      <td id=\"T_4f9bc_row9_col2\" class=\"data row9 col2\" >1.0000</td>\n",
       "      <td id=\"T_4f9bc_row9_col3\" class=\"data row9 col3\" >1.0000</td>\n",
       "      <td id=\"T_4f9bc_row9_col4\" class=\"data row9 col4\" >1.0000</td>\n",
       "      <td id=\"T_4f9bc_row9_col5\" class=\"data row9 col5\" >1.0000</td>\n",
       "      <td id=\"T_4f9bc_row9_col6\" class=\"data row9 col6\" >1.0000</td>\n",
       "    </tr>\n",
       "    <tr>\n",
       "      <th id=\"T_4f9bc_level0_row10\" class=\"row_heading level0 row10\" >Mean</th>\n",
       "      <td id=\"T_4f9bc_row10_col0\" class=\"data row10 col0\" >0.9718</td>\n",
       "      <td id=\"T_4f9bc_row10_col1\" class=\"data row10 col1\" >0.0000</td>\n",
       "      <td id=\"T_4f9bc_row10_col2\" class=\"data row10 col2\" >0.9718</td>\n",
       "      <td id=\"T_4f9bc_row10_col3\" class=\"data row10 col3\" >0.9780</td>\n",
       "      <td id=\"T_4f9bc_row10_col4\" class=\"data row10 col4\" >0.9712</td>\n",
       "      <td id=\"T_4f9bc_row10_col5\" class=\"data row10 col5\" >0.9573</td>\n",
       "      <td id=\"T_4f9bc_row10_col6\" class=\"data row10 col6\" >0.9609</td>\n",
       "    </tr>\n",
       "    <tr>\n",
       "      <th id=\"T_4f9bc_level0_row11\" class=\"row_heading level0 row11\" >Std</th>\n",
       "      <td id=\"T_4f9bc_row11_col0\" class=\"data row11 col0\" >0.0431</td>\n",
       "      <td id=\"T_4f9bc_row11_col1\" class=\"data row11 col1\" >0.0000</td>\n",
       "      <td id=\"T_4f9bc_row11_col2\" class=\"data row11 col2\" >0.0431</td>\n",
       "      <td id=\"T_4f9bc_row11_col3\" class=\"data row11 col3\" >0.0337</td>\n",
       "      <td id=\"T_4f9bc_row11_col4\" class=\"data row11 col4\" >0.0440</td>\n",
       "      <td id=\"T_4f9bc_row11_col5\" class=\"data row11 col5\" >0.0653</td>\n",
       "      <td id=\"T_4f9bc_row11_col6\" class=\"data row11 col6\" >0.0599</td>\n",
       "    </tr>\n",
       "  </tbody>\n",
       "</table>\n"
      ],
      "text/plain": [
       "<pandas.io.formats.style.Styler at 0x20a5ef2a0e0>"
      ]
     },
     "metadata": {},
     "output_type": "display_data"
    },
    {
     "data": {
      "application/vnd.jupyter.widget-view+json": {
       "model_id": "f3c130bd48db42478e85f81e667969e0",
       "version_major": 2,
       "version_minor": 0
      },
      "text/plain": [
       "Processing:   0%|          | 0/4 [00:00<?, ?it/s]"
      ]
     },
     "metadata": {},
     "output_type": "display_data"
    }
   ],
   "source": [
    "from pycaret.classification import create_model\n",
    "dt = create_model('lr')"
   ]
  },
  {
   "cell_type": "markdown",
   "metadata": {},
   "source": [
    "# Paso 5: Optimización de Hiperparámetros"
   ]
  },
  {
   "cell_type": "code",
   "execution_count": 19,
   "metadata": {},
   "outputs": [
    {
     "data": {
      "text/html": [],
      "text/plain": [
       "<IPython.core.display.HTML object>"
      ]
     },
     "metadata": {},
     "output_type": "display_data"
    },
    {
     "data": {
      "text/html": [
       "<style type=\"text/css\">\n",
       "#T_57474_row10_col0, #T_57474_row10_col1, #T_57474_row10_col2, #T_57474_row10_col3, #T_57474_row10_col4, #T_57474_row10_col5, #T_57474_row10_col6 {\n",
       "  background: yellow;\n",
       "}\n",
       "</style>\n",
       "<table id=\"T_57474\">\n",
       "  <thead>\n",
       "    <tr>\n",
       "      <th class=\"blank level0\" >&nbsp;</th>\n",
       "      <th id=\"T_57474_level0_col0\" class=\"col_heading level0 col0\" >Accuracy</th>\n",
       "      <th id=\"T_57474_level0_col1\" class=\"col_heading level0 col1\" >AUC</th>\n",
       "      <th id=\"T_57474_level0_col2\" class=\"col_heading level0 col2\" >Recall</th>\n",
       "      <th id=\"T_57474_level0_col3\" class=\"col_heading level0 col3\" >Prec.</th>\n",
       "      <th id=\"T_57474_level0_col4\" class=\"col_heading level0 col4\" >F1</th>\n",
       "      <th id=\"T_57474_level0_col5\" class=\"col_heading level0 col5\" >Kappa</th>\n",
       "      <th id=\"T_57474_level0_col6\" class=\"col_heading level0 col6\" >MCC</th>\n",
       "    </tr>\n",
       "    <tr>\n",
       "      <th class=\"index_name level0\" >Fold</th>\n",
       "      <th class=\"blank col0\" >&nbsp;</th>\n",
       "      <th class=\"blank col1\" >&nbsp;</th>\n",
       "      <th class=\"blank col2\" >&nbsp;</th>\n",
       "      <th class=\"blank col3\" >&nbsp;</th>\n",
       "      <th class=\"blank col4\" >&nbsp;</th>\n",
       "      <th class=\"blank col5\" >&nbsp;</th>\n",
       "      <th class=\"blank col6\" >&nbsp;</th>\n",
       "    </tr>\n",
       "  </thead>\n",
       "  <tbody>\n",
       "    <tr>\n",
       "      <th id=\"T_57474_level0_row0\" class=\"row_heading level0 row0\" >0</th>\n",
       "      <td id=\"T_57474_row0_col0\" class=\"data row0 col0\" >0.9091</td>\n",
       "      <td id=\"T_57474_row0_col1\" class=\"data row0 col1\" >0.0000</td>\n",
       "      <td id=\"T_57474_row0_col2\" class=\"data row0 col2\" >0.9091</td>\n",
       "      <td id=\"T_57474_row0_col3\" class=\"data row0 col3\" >0.9273</td>\n",
       "      <td id=\"T_57474_row0_col4\" class=\"data row0 col4\" >0.9076</td>\n",
       "      <td id=\"T_57474_row0_col5\" class=\"data row0 col5\" >0.8625</td>\n",
       "      <td id=\"T_57474_row0_col6\" class=\"data row0 col6\" >0.8735</td>\n",
       "    </tr>\n",
       "    <tr>\n",
       "      <th id=\"T_57474_level0_row1\" class=\"row_heading level0 row1\" >1</th>\n",
       "      <td id=\"T_57474_row1_col0\" class=\"data row1 col0\" >1.0000</td>\n",
       "      <td id=\"T_57474_row1_col1\" class=\"data row1 col1\" >0.0000</td>\n",
       "      <td id=\"T_57474_row1_col2\" class=\"data row1 col2\" >1.0000</td>\n",
       "      <td id=\"T_57474_row1_col3\" class=\"data row1 col3\" >1.0000</td>\n",
       "      <td id=\"T_57474_row1_col4\" class=\"data row1 col4\" >1.0000</td>\n",
       "      <td id=\"T_57474_row1_col5\" class=\"data row1 col5\" >1.0000</td>\n",
       "      <td id=\"T_57474_row1_col6\" class=\"data row1 col6\" >1.0000</td>\n",
       "    </tr>\n",
       "    <tr>\n",
       "      <th id=\"T_57474_level0_row2\" class=\"row_heading level0 row2\" >2</th>\n",
       "      <td id=\"T_57474_row2_col0\" class=\"data row2 col0\" >0.9091</td>\n",
       "      <td id=\"T_57474_row2_col1\" class=\"data row2 col1\" >0.0000</td>\n",
       "      <td id=\"T_57474_row2_col2\" class=\"data row2 col2\" >0.9091</td>\n",
       "      <td id=\"T_57474_row2_col3\" class=\"data row2 col3\" >0.9273</td>\n",
       "      <td id=\"T_57474_row2_col4\" class=\"data row2 col4\" >0.9076</td>\n",
       "      <td id=\"T_57474_row2_col5\" class=\"data row2 col5\" >0.8625</td>\n",
       "      <td id=\"T_57474_row2_col6\" class=\"data row2 col6\" >0.8735</td>\n",
       "    </tr>\n",
       "    <tr>\n",
       "      <th id=\"T_57474_level0_row3\" class=\"row_heading level0 row3\" >3</th>\n",
       "      <td id=\"T_57474_row3_col0\" class=\"data row3 col0\" >1.0000</td>\n",
       "      <td id=\"T_57474_row3_col1\" class=\"data row3 col1\" >0.0000</td>\n",
       "      <td id=\"T_57474_row3_col2\" class=\"data row3 col2\" >1.0000</td>\n",
       "      <td id=\"T_57474_row3_col3\" class=\"data row3 col3\" >1.0000</td>\n",
       "      <td id=\"T_57474_row3_col4\" class=\"data row3 col4\" >1.0000</td>\n",
       "      <td id=\"T_57474_row3_col5\" class=\"data row3 col5\" >1.0000</td>\n",
       "      <td id=\"T_57474_row3_col6\" class=\"data row3 col6\" >1.0000</td>\n",
       "    </tr>\n",
       "    <tr>\n",
       "      <th id=\"T_57474_level0_row4\" class=\"row_heading level0 row4\" >4</th>\n",
       "      <td id=\"T_57474_row4_col0\" class=\"data row4 col0\" >1.0000</td>\n",
       "      <td id=\"T_57474_row4_col1\" class=\"data row4 col1\" >0.0000</td>\n",
       "      <td id=\"T_57474_row4_col2\" class=\"data row4 col2\" >1.0000</td>\n",
       "      <td id=\"T_57474_row4_col3\" class=\"data row4 col3\" >1.0000</td>\n",
       "      <td id=\"T_57474_row4_col4\" class=\"data row4 col4\" >1.0000</td>\n",
       "      <td id=\"T_57474_row4_col5\" class=\"data row4 col5\" >1.0000</td>\n",
       "      <td id=\"T_57474_row4_col6\" class=\"data row4 col6\" >1.0000</td>\n",
       "    </tr>\n",
       "    <tr>\n",
       "      <th id=\"T_57474_level0_row5\" class=\"row_heading level0 row5\" >5</th>\n",
       "      <td id=\"T_57474_row5_col0\" class=\"data row5 col0\" >0.9000</td>\n",
       "      <td id=\"T_57474_row5_col1\" class=\"data row5 col1\" >0.0000</td>\n",
       "      <td id=\"T_57474_row5_col2\" class=\"data row5 col2\" >0.9000</td>\n",
       "      <td id=\"T_57474_row5_col3\" class=\"data row5 col3\" >0.9250</td>\n",
       "      <td id=\"T_57474_row5_col4\" class=\"data row5 col4\" >0.8971</td>\n",
       "      <td id=\"T_57474_row5_col5\" class=\"data row5 col5\" >0.8485</td>\n",
       "      <td id=\"T_57474_row5_col6\" class=\"data row5 col6\" >0.8616</td>\n",
       "    </tr>\n",
       "    <tr>\n",
       "      <th id=\"T_57474_level0_row6\" class=\"row_heading level0 row6\" >6</th>\n",
       "      <td id=\"T_57474_row6_col0\" class=\"data row6 col0\" >1.0000</td>\n",
       "      <td id=\"T_57474_row6_col1\" class=\"data row6 col1\" >0.0000</td>\n",
       "      <td id=\"T_57474_row6_col2\" class=\"data row6 col2\" >1.0000</td>\n",
       "      <td id=\"T_57474_row6_col3\" class=\"data row6 col3\" >1.0000</td>\n",
       "      <td id=\"T_57474_row6_col4\" class=\"data row6 col4\" >1.0000</td>\n",
       "      <td id=\"T_57474_row6_col5\" class=\"data row6 col5\" >1.0000</td>\n",
       "      <td id=\"T_57474_row6_col6\" class=\"data row6 col6\" >1.0000</td>\n",
       "    </tr>\n",
       "    <tr>\n",
       "      <th id=\"T_57474_level0_row7\" class=\"row_heading level0 row7\" >7</th>\n",
       "      <td id=\"T_57474_row7_col0\" class=\"data row7 col0\" >1.0000</td>\n",
       "      <td id=\"T_57474_row7_col1\" class=\"data row7 col1\" >0.0000</td>\n",
       "      <td id=\"T_57474_row7_col2\" class=\"data row7 col2\" >1.0000</td>\n",
       "      <td id=\"T_57474_row7_col3\" class=\"data row7 col3\" >1.0000</td>\n",
       "      <td id=\"T_57474_row7_col4\" class=\"data row7 col4\" >1.0000</td>\n",
       "      <td id=\"T_57474_row7_col5\" class=\"data row7 col5\" >1.0000</td>\n",
       "      <td id=\"T_57474_row7_col6\" class=\"data row7 col6\" >1.0000</td>\n",
       "    </tr>\n",
       "    <tr>\n",
       "      <th id=\"T_57474_level0_row8\" class=\"row_heading level0 row8\" >8</th>\n",
       "      <td id=\"T_57474_row8_col0\" class=\"data row8 col0\" >1.0000</td>\n",
       "      <td id=\"T_57474_row8_col1\" class=\"data row8 col1\" >0.0000</td>\n",
       "      <td id=\"T_57474_row8_col2\" class=\"data row8 col2\" >1.0000</td>\n",
       "      <td id=\"T_57474_row8_col3\" class=\"data row8 col3\" >1.0000</td>\n",
       "      <td id=\"T_57474_row8_col4\" class=\"data row8 col4\" >1.0000</td>\n",
       "      <td id=\"T_57474_row8_col5\" class=\"data row8 col5\" >1.0000</td>\n",
       "      <td id=\"T_57474_row8_col6\" class=\"data row8 col6\" >1.0000</td>\n",
       "    </tr>\n",
       "    <tr>\n",
       "      <th id=\"T_57474_level0_row9\" class=\"row_heading level0 row9\" >9</th>\n",
       "      <td id=\"T_57474_row9_col0\" class=\"data row9 col0\" >1.0000</td>\n",
       "      <td id=\"T_57474_row9_col1\" class=\"data row9 col1\" >0.0000</td>\n",
       "      <td id=\"T_57474_row9_col2\" class=\"data row9 col2\" >1.0000</td>\n",
       "      <td id=\"T_57474_row9_col3\" class=\"data row9 col3\" >1.0000</td>\n",
       "      <td id=\"T_57474_row9_col4\" class=\"data row9 col4\" >1.0000</td>\n",
       "      <td id=\"T_57474_row9_col5\" class=\"data row9 col5\" >1.0000</td>\n",
       "      <td id=\"T_57474_row9_col6\" class=\"data row9 col6\" >1.0000</td>\n",
       "    </tr>\n",
       "    <tr>\n",
       "      <th id=\"T_57474_level0_row10\" class=\"row_heading level0 row10\" >Mean</th>\n",
       "      <td id=\"T_57474_row10_col0\" class=\"data row10 col0\" >0.9718</td>\n",
       "      <td id=\"T_57474_row10_col1\" class=\"data row10 col1\" >0.0000</td>\n",
       "      <td id=\"T_57474_row10_col2\" class=\"data row10 col2\" >0.9718</td>\n",
       "      <td id=\"T_57474_row10_col3\" class=\"data row10 col3\" >0.9780</td>\n",
       "      <td id=\"T_57474_row10_col4\" class=\"data row10 col4\" >0.9712</td>\n",
       "      <td id=\"T_57474_row10_col5\" class=\"data row10 col5\" >0.9573</td>\n",
       "      <td id=\"T_57474_row10_col6\" class=\"data row10 col6\" >0.9609</td>\n",
       "    </tr>\n",
       "    <tr>\n",
       "      <th id=\"T_57474_level0_row11\" class=\"row_heading level0 row11\" >Std</th>\n",
       "      <td id=\"T_57474_row11_col0\" class=\"data row11 col0\" >0.0431</td>\n",
       "      <td id=\"T_57474_row11_col1\" class=\"data row11 col1\" >0.0000</td>\n",
       "      <td id=\"T_57474_row11_col2\" class=\"data row11 col2\" >0.0431</td>\n",
       "      <td id=\"T_57474_row11_col3\" class=\"data row11 col3\" >0.0337</td>\n",
       "      <td id=\"T_57474_row11_col4\" class=\"data row11 col4\" >0.0440</td>\n",
       "      <td id=\"T_57474_row11_col5\" class=\"data row11 col5\" >0.0653</td>\n",
       "      <td id=\"T_57474_row11_col6\" class=\"data row11 col6\" >0.0599</td>\n",
       "    </tr>\n",
       "  </tbody>\n",
       "</table>\n"
      ],
      "text/plain": [
       "<pandas.io.formats.style.Styler at 0x20a5e8279a0>"
      ]
     },
     "metadata": {},
     "output_type": "display_data"
    },
    {
     "data": {
      "application/vnd.jupyter.widget-view+json": {
       "model_id": "f6f7c47607604aba835b121c098bdfe8",
       "version_major": 2,
       "version_minor": 0
      },
      "text/plain": [
       "Processing:   0%|          | 0/7 [00:00<?, ?it/s]"
      ]
     },
     "metadata": {},
     "output_type": "display_data"
    },
    {
     "name": "stdout",
     "output_type": "stream",
     "text": [
      "Fitting 10 folds for each of 10 candidates, totalling 100 fits\n",
      "Original model was better than the tuned model, hence it will be returned. NOTE: The display metrics are for the tuned model (not the original one).\n"
     ]
    }
   ],
   "source": [
    "from pycaret.classification import tune_model\n",
    "tuned_dt = tune_model(dt, optimize = 'Accuracy')"
   ]
  },
  {
   "cell_type": "markdown",
   "metadata": {},
   "source": [
    "# Paso 6: Visualización del Modelo"
   ]
  },
  {
   "cell_type": "code",
   "execution_count": 20,
   "metadata": {},
   "outputs": [
    {
     "data": {
      "text/html": [],
      "text/plain": [
       "<IPython.core.display.HTML object>"
      ]
     },
     "metadata": {},
     "output_type": "display_data"
    },
    {
     "data": {
      "image/png": "[encoded data removed]",
      "text/plain": [
       "<Figure size 800x550 with 1 Axes>"
      ]
     },
     "metadata": {},
     "output_type": "display_data"
    }
   ],
   "source": [
    "from pycaret.classification import plot_model\n",
    "plot_model(tuned_dt, plot = 'confusion_matrix')"
   ]
  },
  {
   "cell_type": "markdown",
   "metadata": {},
   "source": [
    "# Paso 7: Evaluación Exhaustiva del Modelo"
   ]
  },
  {
   "cell_type": "code",
   "execution_count": 21,
   "metadata": {},
   "outputs": [
    {
     "data": {
      "application/vnd.jupyter.widget-view+json": {
       "model_id": "7ec0fd7ab239492ba870616aaa228421",
       "version_major": 2,
       "version_minor": 0
      },
      "text/plain": [
       "interactive(children=(ToggleButtons(description='Plot Type:', icons=('',), options=(('Pipeline Plot', 'pipelin…"
      ]
     },
     "metadata": {},
     "output_type": "display_data"
    }
   ],
   "source": [
    "from pycaret.classification import evaluate_model\n",
    "evaluate_model(tuned_dt)"
   ]
  },
  {
   "cell_type": "markdown",
   "metadata": {},
   "source": [
    "# Paso 8: Finalizar el Modelo"
   ]
  },
  {
   "cell_type": "code",
   "execution_count": 22,
   "metadata": {},
   "outputs": [],
   "source": [
    "from pycaret.classification import finalize_model\n",
    "final_dt = finalize_model(tuned_dt)"
   ]
  },
  {
   "cell_type": "markdown",
   "metadata": {},
   "source": [
    "# Paso 9: Realizar Predicciones"
   ]
  },
  {
   "cell_type": "code",
   "execution_count": 23,
   "metadata": {},
   "outputs": [
    {
     "data": {
      "text/html": [],
      "text/plain": [
       "<IPython.core.display.HTML object>"
      ]
     },
     "metadata": {},
     "output_type": "display_data"
    }
   ],
   "source": [
    "from pycaret.classification import predict_model\n",
    "predictions = predict_model(final_dt, data=dataset)"
   ]
  },
  {
   "cell_type": "markdown",
   "metadata": {},
   "source": [
    "# Paso 10: Guardar y Cargar Modelos"
   ]
  },
  {
   "cell_type": "code",
   "execution_count": 24,
   "metadata": {},
   "outputs": [
    {
     "name": "stdout",
     "output_type": "stream",
     "text": [
      "Transformation Pipeline and Model Successfully Saved\n"
     ]
    },
    {
     "data": {
      "text/plain": [
       "(Pipeline(memory=Memory(location=None),\n",
       "          steps=[('label_encoding',\n",
       "                  TransformerWrapperWithInverse(exclude=None, include=None,\n",
       "                                                transformer=LabelEncoder())),\n",
       "                 ('numerical_imputer',\n",
       "                  TransformerWrapper(exclude=None,\n",
       "                                     include=['sepal_length', 'sepal_width',\n",
       "                                              'petal_length', 'petal_width'],\n",
       "                                     transformer=SimpleImputer(add_indicator=False,\n",
       "                                                               copy=True,\n",
       "                                                               fill_value=None,\n",
       "                                                               keep_empt...\n",
       "                                                               fill_value=None,\n",
       "                                                               keep_empty_features=False,\n",
       "                                                               missing_values=nan,\n",
       "                                                               strategy='most_frequent'))),\n",
       "                 ('actual_estimator',\n",
       "                  LogisticRegression(C=1.0, class_weight=None, dual=False,\n",
       "                                     fit_intercept=True, intercept_scaling=1,\n",
       "                                     l1_ratio=None, max_iter=1000,\n",
       "                                     multi_class='auto', n_jobs=None,\n",
       "                                     penalty='l2', random_state=123,\n",
       "                                     solver='lbfgs', tol=0.0001, verbose=0,\n",
       "                                     warm_start=False))],\n",
       "          verbose=False),\n",
       " 'final_dt_model_iris.pkl')"
      ]
     },
     "execution_count": 24,
     "metadata": {},
     "output_type": "execute_result"
    }
   ],
   "source": [
    "from pycaret.classification import save_model\n",
    "save_model(final_dt, 'final_dt_model_iris')"
   ]
  },
  {
   "cell_type": "code",
   "execution_count": 25,
   "metadata": {},
   "outputs": [
    {
     "name": "stdout",
     "output_type": "stream",
     "text": [
      "Transformation Pipeline and Model Successfully Loaded\n"
     ]
    }
   ],
   "source": [
    "from pycaret.classification import load_model\n",
    "loaded_model = load_model('final_dt_model_iris')"
   ]
  },
  {
   "cell_type": "code",
   "execution_count": null,
   "metadata": {},
   "outputs": [],
   "source": []
  }
 ],
 "metadata": {
  "kernelspec": {
   "display_name": "Python 3",
   "language": "python",
   "name": "python3"
  },
  "language_info": {
   "codemirror_mode": {
    "name": "ipython",
    "version": 3
   },
   "file_extension": ".py",
   "mimetype": "text/x-python",
   "name": "python",
   "nbconvert_exporter": "python",
   "pygments_lexer": "ipython3",
   "version": "3.10.11"
  }
 },
 "nbformat": 4,
 "nbformat_minor": 2
}
